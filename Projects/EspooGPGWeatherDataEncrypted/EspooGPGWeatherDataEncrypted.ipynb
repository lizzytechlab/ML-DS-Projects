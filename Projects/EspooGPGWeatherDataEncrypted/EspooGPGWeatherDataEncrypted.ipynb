{
 "cells": [
  {
   "cell_type": "code",
   "execution_count": 183,
   "id": "57e4ae97-b0f6-46c8-a746-6c7d83bace44",
   "metadata": {},
   "outputs": [],
   "source": [
    "import gnupg\n",
    "import pandas as pd\n",
    "import numpy as np"
   ]
  },
  {
   "cell_type": "code",
   "execution_count": 184,
   "id": "d85490ec-9073-4f5d-ac89-623f06864e39",
   "metadata": {},
   "outputs": [],
   "source": [
    "# Specify the paths to the GPG binary and public key file\n",
    "gpg_binary_path = '/path/to/GPGdirectory/gpg.exe'  #for security reasons not providing my real paths here"
   ]
  },
  {
   "cell_type": "code",
   "execution_count": 185,
   "id": "2dba69bf-e64e-492a-839d-69e4529117f2",
   "metadata": {},
   "outputs": [],
   "source": [
    "public_key_path = '/path/to/home/directory/.gnupg/pubring.kbx'"
   ]
  },
  {
   "cell_type": "code",
   "execution_count": 186,
   "id": "29ba9437-ac3a-49f9-8d5f-a2180b1a6a79",
   "metadata": {},
   "outputs": [],
   "source": [
    "# Initialize GPG object\n",
    "gpg = gnupg.GPG(gpgbinary=gpg_binary_path)"
   ]
  },
  {
   "cell_type": "code",
   "execution_count": 187,
   "id": "fd01de26-efad-492f-b56a-64c9d2600749",
   "metadata": {},
   "outputs": [],
   "source": [
    "# Read CSV file into DataFrame\n",
    "df = pd.read_csv('weather_2022-02.csv')"
   ]
  },
  {
   "cell_type": "code",
   "execution_count": 188,
   "id": "af5a87e5-dbe9-4672-8aaa-137d28838eef",
   "metadata": {},
   "outputs": [],
   "source": [
    "# Define function to decrypt field\n",
    "def decrypt_field(encrypted_data):\n",
    "    decrypted_data = gpg.decrypt(encrypted_data)\n",
    "    return decrypted_data.data.decode('utf-8')"
   ]
  },
  {
   "cell_type": "code",
   "execution_count": 189,
   "id": "3fa1d548-51c4-4491-86f0-f8e771dadb67",
   "metadata": {},
   "outputs": [
    {
     "data": {
      "text/html": [
       "<div>\n",
       "<style scoped>\n",
       "    .dataframe tbody tr th:only-of-type {\n",
       "        vertical-align: middle;\n",
       "    }\n",
       "\n",
       "    .dataframe tbody tr th {\n",
       "        vertical-align: top;\n",
       "    }\n",
       "\n",
       "    .dataframe thead th {\n",
       "        text-align: right;\n",
       "    }\n",
       "</style>\n",
       "<table border=\"1\" class=\"dataframe\">\n",
       "  <thead>\n",
       "    <tr style=\"text-align: right;\">\n",
       "      <th></th>\n",
       "      <th>2022-02-01T00:00:00Z</th>\n",
       "      <th>TA_PT1H_AVG</th>\n",
       "      <th>-----BEGIN PGP MESSAGE-----\\r\\n\\r\\nhQGMAxfy52wY3vU5AQwAp9TEI3yRCs1f4+V0iYtWnSmtJquSm2jF+N3L1TKH98GM\\r\\nMXFFw6Wm4SJnR1ZRaVncsNpjX+WQrE3u2pkl6gIl0McgPFLvwgskE9paFfwpVAxS\\r\\njBDCqpk28eo3tWtRRXQBvW8H2HoTN5j+dAYukLi6Vofo6Q0HnmwHINgGQfA7FRJ1\\r\\nJDcXHNolLICrVGdwzWKcXKBVjAPwtDJd1MBjzXySsToaO56KbC2ercGCjhlwrXVt\\r\\nUHdwZcFYyFDfJVt/Ms5n5vVjSI8Xt/cUEwnWTIzKLLCt1FgLxOeARNyEqxMlW/u/\\r\\nlcFF/TEbCWAnrEpryZpfuVYC7XOI1tLw5gOl5GGvmxWAQ2FW/pLdANKmtjD8FKvh\\r\\nTXdjeUXPAAH9jVZwo2a/gaIJrutKiXxSlCUTOrBxFj+zpWH2fbzl/0AyxRpWIwaX\\r\\nrt8Hux9DVy+pj1J1vpCegMa41e1FfNOehAAEu95veF1Iro7PEFpJ4XVmPkwUkbcv\\r\\nuqrCrb1jpe0LMvJPz51f0j8B1PmD18rFX9Fv7WaMc6Oz2uK9QqowgUc8qVC4ke3w\\r\\nqvwiJZh/0ttqH3hfch7tCdhBr+BVqkxNE/ZQKZnGM+s=\\r\\n=tujR\\r\\n-----END PGP MESSAGE-----\\r\\n</th>\n",
       "    </tr>\n",
       "  </thead>\n",
       "  <tbody>\n",
       "    <tr>\n",
       "      <th>0</th>\n",
       "      <td>2022-02-01T00:00:00Z</td>\n",
       "      <td>TA_PT1H_MAX</td>\n",
       "      <td>-9.1</td>\n",
       "    </tr>\n",
       "    <tr>\n",
       "      <th>1</th>\n",
       "      <td>2022-02-01T00:00:00Z</td>\n",
       "      <td>TA_PT1H_MIN</td>\n",
       "      <td>-9.3</td>\n",
       "    </tr>\n",
       "    <tr>\n",
       "      <th>2</th>\n",
       "      <td>2022-02-01T00:00:00Z</td>\n",
       "      <td>RH_PT1H_AVG</td>\n",
       "      <td>86.0</td>\n",
       "    </tr>\n",
       "    <tr>\n",
       "      <th>3</th>\n",
       "      <td>2022-02-01T00:00:00Z</td>\n",
       "      <td>WS_PT1H_AVG</td>\n",
       "      <td>2.5</td>\n",
       "    </tr>\n",
       "    <tr>\n",
       "      <th>4</th>\n",
       "      <td>2022-02-01T00:00:00Z</td>\n",
       "      <td>WS_PT1H_MAX</td>\n",
       "      <td>3.0</td>\n",
       "    </tr>\n",
       "  </tbody>\n",
       "</table>\n",
       "</div>"
      ],
      "text/plain": [
       "   2022-02-01T00:00:00Z  TA_PT1H_AVG  \\\n",
       "0  2022-02-01T00:00:00Z  TA_PT1H_MAX   \n",
       "1  2022-02-01T00:00:00Z  TA_PT1H_MIN   \n",
       "2  2022-02-01T00:00:00Z  RH_PT1H_AVG   \n",
       "3  2022-02-01T00:00:00Z  WS_PT1H_AVG   \n",
       "4  2022-02-01T00:00:00Z  WS_PT1H_MAX   \n",
       "\n",
       "  -----BEGIN PGP MESSAGE-----\\r\\n\\r\\nhQGMAxfy52wY3vU5AQwAp9TEI3yRCs1f4+V0iYtWnSmtJquSm2jF+N3L1TKH98GM\\r\\nMXFFw6Wm4SJnR1ZRaVncsNpjX+WQrE3u2pkl6gIl0McgPFLvwgskE9paFfwpVAxS\\r\\njBDCqpk28eo3tWtRRXQBvW8H2HoTN5j+dAYukLi6Vofo6Q0HnmwHINgGQfA7FRJ1\\r\\nJDcXHNolLICrVGdwzWKcXKBVjAPwtDJd1MBjzXySsToaO56KbC2ercGCjhlwrXVt\\r\\nUHdwZcFYyFDfJVt/Ms5n5vVjSI8Xt/cUEwnWTIzKLLCt1FgLxOeARNyEqxMlW/u/\\r\\nlcFF/TEbCWAnrEpryZpfuVYC7XOI1tLw5gOl5GGvmxWAQ2FW/pLdANKmtjD8FKvh\\r\\nTXdjeUXPAAH9jVZwo2a/gaIJrutKiXxSlCUTOrBxFj+zpWH2fbzl/0AyxRpWIwaX\\r\\nrt8Hux9DVy+pj1J1vpCegMa41e1FfNOehAAEu95veF1Iro7PEFpJ4XVmPkwUkbcv\\r\\nuqrCrb1jpe0LMvJPz51f0j8B1PmD18rFX9Fv7WaMc6Oz2uK9QqowgUc8qVC4ke3w\\r\\nqvwiJZh/0ttqH3hfch7tCdhBr+BVqkxNE/ZQKZnGM+s=\\r\\n=tujR\\r\\n-----END PGP MESSAGE-----\\r\\n  \n",
       "0                                               -9.1                                                                                                                                                                                                                                                                                                                                                                                                                                                                                                                                                                                                                                                                                                             \n",
       "1                                               -9.3                                                                                                                                                                                                                                                                                                                                                                                                                                                                                                                                                                                                                                                                                                             \n",
       "2                                               86.0                                                                                                                                                                                                                                                                                                                                                                                                                                                                                                                                                                                                                                                                                                             \n",
       "3                                                2.5                                                                                                                                                                                                                                                                                                                                                                                                                                                                                                                                                                                                                                                                                                             \n",
       "4                                                3.0                                                                                                                                                                                                                                                                                                                                                                                                                                                                                                                                                                                                                                                                                                             "
      ]
     },
     "execution_count": 189,
     "metadata": {},
     "output_type": "execute_result"
    }
   ],
   "source": [
    "df.head()"
   ]
  },
  {
   "cell_type": "code",
   "execution_count": 190,
   "id": "56c1098c-91a0-4ea1-9a05-324a8f7627cd",
   "metadata": {},
   "outputs": [],
   "source": [
    "# Iterate through each column in the DataFrame\n",
    "for column in df.columns:\n",
    "    # Check if any cell in the column starts with '-----BEGIN PGP MESSAGE-----'\n",
    "    if df[column].apply(lambda x: isinstance(x, str) and x.startswith('-----BEGIN PGP MESSAGE-----')).any():\n",
    "        # Modify the column name to \"Value\"\n",
    "        df.rename(columns={column: 'Value'}, inplace=True)"
   ]
  },
  {
   "cell_type": "code",
   "execution_count": 191,
   "id": "f15a1b42-9a31-453f-a507-a8532f6fb267",
   "metadata": {},
   "outputs": [
    {
     "data": {
      "text/html": [
       "<div>\n",
       "<style scoped>\n",
       "    .dataframe tbody tr th:only-of-type {\n",
       "        vertical-align: middle;\n",
       "    }\n",
       "\n",
       "    .dataframe tbody tr th {\n",
       "        vertical-align: top;\n",
       "    }\n",
       "\n",
       "    .dataframe thead th {\n",
       "        text-align: right;\n",
       "    }\n",
       "</style>\n",
       "<table border=\"1\" class=\"dataframe\">\n",
       "  <thead>\n",
       "    <tr style=\"text-align: right;\">\n",
       "      <th></th>\n",
       "      <th>2022-02-01T00:00:00Z</th>\n",
       "      <th>TA_PT1H_AVG</th>\n",
       "      <th>Value</th>\n",
       "    </tr>\n",
       "  </thead>\n",
       "  <tbody>\n",
       "    <tr>\n",
       "      <th>0</th>\n",
       "      <td>2022-02-01T00:00:00Z</td>\n",
       "      <td>TA_PT1H_MAX</td>\n",
       "      <td>-9.1</td>\n",
       "    </tr>\n",
       "    <tr>\n",
       "      <th>1</th>\n",
       "      <td>2022-02-01T00:00:00Z</td>\n",
       "      <td>TA_PT1H_MIN</td>\n",
       "      <td>-9.3</td>\n",
       "    </tr>\n",
       "    <tr>\n",
       "      <th>2</th>\n",
       "      <td>2022-02-01T00:00:00Z</td>\n",
       "      <td>RH_PT1H_AVG</td>\n",
       "      <td>86.0</td>\n",
       "    </tr>\n",
       "    <tr>\n",
       "      <th>3</th>\n",
       "      <td>2022-02-01T00:00:00Z</td>\n",
       "      <td>WS_PT1H_AVG</td>\n",
       "      <td>2.5</td>\n",
       "    </tr>\n",
       "    <tr>\n",
       "      <th>4</th>\n",
       "      <td>2022-02-01T00:00:00Z</td>\n",
       "      <td>WS_PT1H_MAX</td>\n",
       "      <td>3.0</td>\n",
       "    </tr>\n",
       "  </tbody>\n",
       "</table>\n",
       "</div>"
      ],
      "text/plain": [
       "   2022-02-01T00:00:00Z  TA_PT1H_AVG Value\n",
       "0  2022-02-01T00:00:00Z  TA_PT1H_MAX  -9.1\n",
       "1  2022-02-01T00:00:00Z  TA_PT1H_MIN  -9.3\n",
       "2  2022-02-01T00:00:00Z  RH_PT1H_AVG  86.0\n",
       "3  2022-02-01T00:00:00Z  WS_PT1H_AVG   2.5\n",
       "4  2022-02-01T00:00:00Z  WS_PT1H_MAX   3.0"
      ]
     },
     "execution_count": 191,
     "metadata": {},
     "output_type": "execute_result"
    }
   ],
   "source": [
    "df.head()"
   ]
  },
  {
   "cell_type": "code",
   "execution_count": 192,
   "id": "4f0d002f-84b1-49a9-8837-f10d98c7ce9e",
   "metadata": {},
   "outputs": [
    {
     "name": "stdout",
     "output_type": "stream",
     "text": [
      "<class 'pandas.core.frame.DataFrame'>\n",
      "RangeIndex: 7787 entries, 0 to 7786\n",
      "Data columns (total 3 columns):\n",
      " #   Column                Non-Null Count  Dtype \n",
      "---  ------                --------------  ----- \n",
      " 0   2022-02-01T00:00:00Z  7787 non-null   object\n",
      " 1   TA_PT1H_AVG           7787 non-null   object\n",
      " 2   Value                 5816 non-null   object\n",
      "dtypes: object(3)\n",
      "memory usage: 182.6+ KB\n"
     ]
    }
   ],
   "source": [
    "df.info()"
   ]
  },
  {
   "cell_type": "code",
   "execution_count": 193,
   "id": "d8624bee-76c0-488c-a662-f6d79303209d",
   "metadata": {},
   "outputs": [
    {
     "data": {
      "text/plain": [
       "2022-02-01T00:00:00Z    object\n",
       "TA_PT1H_AVG             object\n",
       "Value                   object\n",
       "dtype: object"
      ]
     },
     "execution_count": 193,
     "metadata": {},
     "output_type": "execute_result"
    }
   ],
   "source": [
    "df.dtypes"
   ]
  },
  {
   "cell_type": "code",
   "execution_count": 194,
   "id": "28ff81ce-d54b-44a9-8bf4-734257674a4c",
   "metadata": {},
   "outputs": [
    {
     "data": {
      "text/html": [
       "<div>\n",
       "<style scoped>\n",
       "    .dataframe tbody tr th:only-of-type {\n",
       "        vertical-align: middle;\n",
       "    }\n",
       "\n",
       "    .dataframe tbody tr th {\n",
       "        vertical-align: top;\n",
       "    }\n",
       "\n",
       "    .dataframe thead th {\n",
       "        text-align: right;\n",
       "    }\n",
       "</style>\n",
       "<table border=\"1\" class=\"dataframe\">\n",
       "  <thead>\n",
       "    <tr style=\"text-align: right;\">\n",
       "      <th></th>\n",
       "      <th>2022-02-01T00:00:00Z</th>\n",
       "      <th>TA_PT1H_AVG</th>\n",
       "      <th>Value</th>\n",
       "    </tr>\n",
       "  </thead>\n",
       "  <tbody>\n",
       "    <tr>\n",
       "      <th>0</th>\n",
       "      <td>2022-02-01T00:00:00Z</td>\n",
       "      <td>TA_PT1H_MAX</td>\n",
       "      <td>-9.1</td>\n",
       "    </tr>\n",
       "    <tr>\n",
       "      <th>1</th>\n",
       "      <td>2022-02-01T00:00:00Z</td>\n",
       "      <td>TA_PT1H_MIN</td>\n",
       "      <td>-9.3</td>\n",
       "    </tr>\n",
       "    <tr>\n",
       "      <th>2</th>\n",
       "      <td>2022-02-01T00:00:00Z</td>\n",
       "      <td>RH_PT1H_AVG</td>\n",
       "      <td>86.0</td>\n",
       "    </tr>\n",
       "    <tr>\n",
       "      <th>3</th>\n",
       "      <td>2022-02-01T00:00:00Z</td>\n",
       "      <td>WS_PT1H_AVG</td>\n",
       "      <td>2.5</td>\n",
       "    </tr>\n",
       "    <tr>\n",
       "      <th>4</th>\n",
       "      <td>2022-02-01T00:00:00Z</td>\n",
       "      <td>WS_PT1H_MAX</td>\n",
       "      <td>3.0</td>\n",
       "    </tr>\n",
       "  </tbody>\n",
       "</table>\n",
       "</div>"
      ],
      "text/plain": [
       "   2022-02-01T00:00:00Z  TA_PT1H_AVG Value\n",
       "0  2022-02-01T00:00:00Z  TA_PT1H_MAX  -9.1\n",
       "1  2022-02-01T00:00:00Z  TA_PT1H_MIN  -9.3\n",
       "2  2022-02-01T00:00:00Z  RH_PT1H_AVG  86.0\n",
       "3  2022-02-01T00:00:00Z  WS_PT1H_AVG   2.5\n",
       "4  2022-02-01T00:00:00Z  WS_PT1H_MAX   3.0"
      ]
     },
     "execution_count": 194,
     "metadata": {},
     "output_type": "execute_result"
    }
   ],
   "source": [
    "df.head()"
   ]
  },
  {
   "cell_type": "code",
   "execution_count": 195,
   "id": "14fd8897-c17b-45ac-8b4a-a41454ce0dc0",
   "metadata": {},
   "outputs": [
    {
     "data": {
      "text/plain": [
       "2022-02-01T00:00:00Z       0\n",
       "TA_PT1H_AVG                0\n",
       "Value                   1971\n",
       "dtype: int64"
      ]
     },
     "execution_count": 195,
     "metadata": {},
     "output_type": "execute_result"
    }
   ],
   "source": [
    "#checking are NaN values in datframe and how many\n",
    "df.isna().sum()"
   ]
  },
  {
   "cell_type": "code",
   "execution_count": 196,
   "id": "3d81d6cf-8872-464b-a364-88ca9c7587f6",
   "metadata": {},
   "outputs": [
    {
     "data": {
      "text/html": [
       "<div>\n",
       "<style scoped>\n",
       "    .dataframe tbody tr th:only-of-type {\n",
       "        vertical-align: middle;\n",
       "    }\n",
       "\n",
       "    .dataframe tbody tr th {\n",
       "        vertical-align: top;\n",
       "    }\n",
       "\n",
       "    .dataframe thead th {\n",
       "        text-align: right;\n",
       "    }\n",
       "</style>\n",
       "<table border=\"1\" class=\"dataframe\">\n",
       "  <thead>\n",
       "    <tr style=\"text-align: right;\">\n",
       "      <th></th>\n",
       "      <th>2022-02-01T00:00:00Z</th>\n",
       "      <th>TA_PT1H_AVG</th>\n",
       "      <th>Value</th>\n",
       "      <th>Hour</th>\n",
       "    </tr>\n",
       "  </thead>\n",
       "  <tbody>\n",
       "    <tr>\n",
       "      <th>0</th>\n",
       "      <td>2022-02-01 00:00:00+00:00</td>\n",
       "      <td>TA_PT1H_MAX</td>\n",
       "      <td>-9.1</td>\n",
       "      <td>0</td>\n",
       "    </tr>\n",
       "    <tr>\n",
       "      <th>1</th>\n",
       "      <td>2022-02-01 00:00:00+00:00</td>\n",
       "      <td>TA_PT1H_MIN</td>\n",
       "      <td>-9.3</td>\n",
       "      <td>0</td>\n",
       "    </tr>\n",
       "    <tr>\n",
       "      <th>2</th>\n",
       "      <td>2022-02-01 00:00:00+00:00</td>\n",
       "      <td>RH_PT1H_AVG</td>\n",
       "      <td>86.0</td>\n",
       "      <td>0</td>\n",
       "    </tr>\n",
       "    <tr>\n",
       "      <th>3</th>\n",
       "      <td>2022-02-01 00:00:00+00:00</td>\n",
       "      <td>WS_PT1H_AVG</td>\n",
       "      <td>2.5</td>\n",
       "      <td>0</td>\n",
       "    </tr>\n",
       "    <tr>\n",
       "      <th>4</th>\n",
       "      <td>2022-02-01 00:00:00+00:00</td>\n",
       "      <td>WS_PT1H_MAX</td>\n",
       "      <td>3.0</td>\n",
       "      <td>0</td>\n",
       "    </tr>\n",
       "  </tbody>\n",
       "</table>\n",
       "</div>"
      ],
      "text/plain": [
       "       2022-02-01T00:00:00Z  TA_PT1H_AVG  Value  Hour\n",
       "0 2022-02-01 00:00:00+00:00  TA_PT1H_MAX   -9.1     0\n",
       "1 2022-02-01 00:00:00+00:00  TA_PT1H_MIN   -9.3     0\n",
       "2 2022-02-01 00:00:00+00:00  RH_PT1H_AVG   86.0     0\n",
       "3 2022-02-01 00:00:00+00:00  WS_PT1H_AVG    2.5     0\n",
       "4 2022-02-01 00:00:00+00:00  WS_PT1H_MAX    3.0     0"
      ]
     },
     "execution_count": 196,
     "metadata": {},
     "output_type": "execute_result"
    }
   ],
   "source": [
    "# Convert 'Value' column to float64 data type before dropping NaN values\n",
    "df['Value'] = pd.to_numeric(df['Value'], errors='coerce')\n",
    "\n",
    "# Convert '2022-02-01T00:00:00Z' column to datetime\n",
    "df['2022-02-01T00:00:00Z'] = pd.to_datetime(df['2022-02-01T00:00:00Z'])\n",
    "\n",
    "# Group by the datetime column to extract hour\n",
    "df['Hour'] = df['2022-02-01T00:00:00Z'].dt.hour\n",
    "\n",
    "#dropping any NaN values from dataframe\n",
    "df.dropna(inplace=True)\n",
    "df.head()"
   ]
  },
  {
   "cell_type": "code",
   "execution_count": 197,
   "id": "89ece92a-313e-4aaa-aa5b-1f1ab4dd9ee1",
   "metadata": {},
   "outputs": [
    {
     "name": "stdout",
     "output_type": "stream",
     "text": [
      "<class 'pandas.core.frame.DataFrame'>\n",
      "Index: 5170 entries, 0 to 7785\n",
      "Data columns (total 4 columns):\n",
      " #   Column                Non-Null Count  Dtype              \n",
      "---  ------                --------------  -----              \n",
      " 0   2022-02-01T00:00:00Z  5170 non-null   datetime64[ns, UTC]\n",
      " 1   TA_PT1H_AVG           5170 non-null   object             \n",
      " 2   Value                 5170 non-null   float64            \n",
      " 3   Hour                  5170 non-null   int32              \n",
      "dtypes: datetime64[ns, UTC](1), float64(1), int32(1), object(1)\n",
      "memory usage: 181.8+ KB\n"
     ]
    }
   ],
   "source": [
    "df.info()"
   ]
  },
  {
   "cell_type": "code",
   "execution_count": 198,
   "id": "8f866a62-0ed2-487e-bc7f-d1bc02b2e449",
   "metadata": {},
   "outputs": [
    {
     "data": {
      "text/html": [
       "<div>\n",
       "<style scoped>\n",
       "    .dataframe tbody tr th:only-of-type {\n",
       "        vertical-align: middle;\n",
       "    }\n",
       "\n",
       "    .dataframe tbody tr th {\n",
       "        vertical-align: top;\n",
       "    }\n",
       "\n",
       "    .dataframe thead th {\n",
       "        text-align: right;\n",
       "    }\n",
       "</style>\n",
       "<table border=\"1\" class=\"dataframe\">\n",
       "  <thead>\n",
       "    <tr style=\"text-align: right;\">\n",
       "      <th></th>\n",
       "      <th>2022-02-01T00:00:00Z</th>\n",
       "      <th>TA_PT1H_AVG</th>\n",
       "      <th>Value</th>\n",
       "      <th>Hour</th>\n",
       "    </tr>\n",
       "  </thead>\n",
       "  <tbody>\n",
       "    <tr>\n",
       "      <th>0</th>\n",
       "      <td>2022-02-01 00:00:00+00:00</td>\n",
       "      <td>TA_PT1H_MAX</td>\n",
       "      <td>-9.1</td>\n",
       "      <td>0</td>\n",
       "    </tr>\n",
       "    <tr>\n",
       "      <th>1</th>\n",
       "      <td>2022-02-01 00:00:00+00:00</td>\n",
       "      <td>TA_PT1H_MIN</td>\n",
       "      <td>-9.3</td>\n",
       "      <td>0</td>\n",
       "    </tr>\n",
       "    <tr>\n",
       "      <th>2</th>\n",
       "      <td>2022-02-01 00:00:00+00:00</td>\n",
       "      <td>RH_PT1H_AVG</td>\n",
       "      <td>86.0</td>\n",
       "      <td>0</td>\n",
       "    </tr>\n",
       "    <tr>\n",
       "      <th>3</th>\n",
       "      <td>2022-02-01 00:00:00+00:00</td>\n",
       "      <td>WS_PT1H_AVG</td>\n",
       "      <td>2.5</td>\n",
       "      <td>0</td>\n",
       "    </tr>\n",
       "    <tr>\n",
       "      <th>4</th>\n",
       "      <td>2022-02-01 00:00:00+00:00</td>\n",
       "      <td>WS_PT1H_MAX</td>\n",
       "      <td>3.0</td>\n",
       "      <td>0</td>\n",
       "    </tr>\n",
       "  </tbody>\n",
       "</table>\n",
       "</div>"
      ],
      "text/plain": [
       "       2022-02-01T00:00:00Z  TA_PT1H_AVG  Value  Hour\n",
       "0 2022-02-01 00:00:00+00:00  TA_PT1H_MAX   -9.1     0\n",
       "1 2022-02-01 00:00:00+00:00  TA_PT1H_MIN   -9.3     0\n",
       "2 2022-02-01 00:00:00+00:00  RH_PT1H_AVG   86.0     0\n",
       "3 2022-02-01 00:00:00+00:00  WS_PT1H_AVG    2.5     0\n",
       "4 2022-02-01 00:00:00+00:00  WS_PT1H_MAX    3.0     0"
      ]
     },
     "execution_count": 198,
     "metadata": {},
     "output_type": "execute_result"
    }
   ],
   "source": [
    "valid_values = df\n",
    "valid_values.head()"
   ]
  },
  {
   "cell_type": "code",
   "execution_count": 200,
   "id": "73cfdbbb-eb07-4062-8b48-cb429ed96754",
   "metadata": {},
   "outputs": [
    {
     "data": {
      "text/html": [
       "<div>\n",
       "<style scoped>\n",
       "    .dataframe tbody tr th:only-of-type {\n",
       "        vertical-align: middle;\n",
       "    }\n",
       "\n",
       "    .dataframe tbody tr th {\n",
       "        vertical-align: top;\n",
       "    }\n",
       "\n",
       "    .dataframe thead th {\n",
       "        text-align: right;\n",
       "    }\n",
       "</style>\n",
       "<table border=\"1\" class=\"dataframe\">\n",
       "  <thead>\n",
       "    <tr style=\"text-align: right;\">\n",
       "      <th></th>\n",
       "      <th>2022-02-01T00:00:00Z</th>\n",
       "      <th>TA_PT1H_AVG</th>\n",
       "      <th>Value</th>\n",
       "      <th>Hour</th>\n",
       "    </tr>\n",
       "  </thead>\n",
       "  <tbody>\n",
       "    <tr>\n",
       "      <th>11</th>\n",
       "      <td>2022-02-01 01:00:00+00:00</td>\n",
       "      <td>TA_PT1H_AVG</td>\n",
       "      <td>-9.4</td>\n",
       "      <td>1</td>\n",
       "    </tr>\n",
       "    <tr>\n",
       "      <th>35</th>\n",
       "      <td>2022-02-01 03:00:00+00:00</td>\n",
       "      <td>TA_PT1H_AVG</td>\n",
       "      <td>-10.6</td>\n",
       "      <td>3</td>\n",
       "    </tr>\n",
       "    <tr>\n",
       "      <th>59</th>\n",
       "      <td>2022-02-01 05:00:00+00:00</td>\n",
       "      <td>TA_PT1H_AVG</td>\n",
       "      <td>-11.1</td>\n",
       "      <td>5</td>\n",
       "    </tr>\n",
       "    <tr>\n",
       "      <th>71</th>\n",
       "      <td>2022-02-01 06:00:00+00:00</td>\n",
       "      <td>TA_PT1H_AVG</td>\n",
       "      <td>-10.9</td>\n",
       "      <td>6</td>\n",
       "    </tr>\n",
       "    <tr>\n",
       "      <th>83</th>\n",
       "      <td>2022-02-01 07:00:00+00:00</td>\n",
       "      <td>TA_PT1H_AVG</td>\n",
       "      <td>-11.7</td>\n",
       "      <td>7</td>\n",
       "    </tr>\n",
       "  </tbody>\n",
       "</table>\n",
       "</div>"
      ],
      "text/plain": [
       "        2022-02-01T00:00:00Z  TA_PT1H_AVG  Value  Hour\n",
       "11 2022-02-01 01:00:00+00:00  TA_PT1H_AVG   -9.4     1\n",
       "35 2022-02-01 03:00:00+00:00  TA_PT1H_AVG  -10.6     3\n",
       "59 2022-02-01 05:00:00+00:00  TA_PT1H_AVG  -11.1     5\n",
       "71 2022-02-01 06:00:00+00:00  TA_PT1H_AVG  -10.9     6\n",
       "83 2022-02-01 07:00:00+00:00  TA_PT1H_AVG  -11.7     7"
      ]
     },
     "execution_count": 200,
     "metadata": {},
     "output_type": "execute_result"
    }
   ],
   "source": [
    "valid_values = valid_values[valid_values['TA_PT1H_AVG'] == 'TA_PT1H_AVG']\n",
    "valid_values.head()"
   ]
  },
  {
   "cell_type": "code",
   "execution_count": 201,
   "id": "6c663508-003d-4083-88d3-0a596ed064b6",
   "metadata": {},
   "outputs": [
    {
     "data": {
      "text/plain": [
       "2022-02-01T00:00:00Z    0\n",
       "TA_PT1H_AVG             0\n",
       "Value                   0\n",
       "Hour                    0\n",
       "dtype: int64"
      ]
     },
     "execution_count": 201,
     "metadata": {},
     "output_type": "execute_result"
    }
   ],
   "source": [
    "#checkink now if NaN values have been remove from dataframe\n",
    "valid_values.isna().sum()"
   ]
  },
  {
   "cell_type": "code",
   "execution_count": 202,
   "id": "631f84d1-eb95-48d0-9233-4dcda95651b3",
   "metadata": {},
   "outputs": [
    {
     "name": "stdout",
     "output_type": "stream",
     "text": [
      "<class 'pandas.core.frame.DataFrame'>\n",
      "Index: 427 entries, 11 to 7775\n",
      "Data columns (total 4 columns):\n",
      " #   Column                Non-Null Count  Dtype              \n",
      "---  ------                --------------  -----              \n",
      " 0   2022-02-01T00:00:00Z  427 non-null    datetime64[ns, UTC]\n",
      " 1   TA_PT1H_AVG           427 non-null    object             \n",
      " 2   Value                 427 non-null    float64            \n",
      " 3   Hour                  427 non-null    int32              \n",
      "dtypes: datetime64[ns, UTC](1), float64(1), int32(1), object(1)\n",
      "memory usage: 15.0+ KB\n"
     ]
    }
   ],
   "source": [
    "valid_values.info()"
   ]
  },
  {
   "cell_type": "code",
   "execution_count": 203,
   "id": "4374f6d2-402d-411e-9505-07ebf61469de",
   "metadata": {},
   "outputs": [
    {
     "data": {
      "text/plain": [
       "2022-02-01T00:00:00Z    0\n",
       "TA_PT1H_AVG             0\n",
       "Value                   0\n",
       "Hour                    0\n",
       "dtype: int64"
      ]
     },
     "execution_count": 203,
     "metadata": {},
     "output_type": "execute_result"
    }
   ],
   "source": [
    "#Confirm that are non Nan values in valid_values\n",
    "valid_values.isna().sum()"
   ]
  },
  {
   "cell_type": "code",
   "execution_count": 204,
   "id": "a635fefd-21ae-4215-aa34-762bb672603c",
   "metadata": {},
   "outputs": [
    {
     "data": {
      "text/plain": [
       "2022-02-01T00:00:00Z    datetime64[ns, UTC]\n",
       "TA_PT1H_AVG                          object\n",
       "Value                               float64\n",
       "Hour                                  int32\n",
       "dtype: object"
      ]
     },
     "execution_count": 204,
     "metadata": {},
     "output_type": "execute_result"
    }
   ],
   "source": [
    "valid_values.dtypes"
   ]
  },
  {
   "cell_type": "code",
   "execution_count": 205,
   "id": "d58d256a-1452-4c61-8d57-d96b0573bb81",
   "metadata": {},
   "outputs": [
    {
     "data": {
      "text/html": [
       "<div>\n",
       "<style scoped>\n",
       "    .dataframe tbody tr th:only-of-type {\n",
       "        vertical-align: middle;\n",
       "    }\n",
       "\n",
       "    .dataframe tbody tr th {\n",
       "        vertical-align: top;\n",
       "    }\n",
       "\n",
       "    .dataframe thead th {\n",
       "        text-align: right;\n",
       "    }\n",
       "</style>\n",
       "<table border=\"1\" class=\"dataframe\">\n",
       "  <thead>\n",
       "    <tr style=\"text-align: right;\">\n",
       "      <th></th>\n",
       "      <th>2022-02-01T00:00:00Z</th>\n",
       "      <th>TA_PT1H_AVG</th>\n",
       "      <th>Value</th>\n",
       "      <th>Hour</th>\n",
       "    </tr>\n",
       "  </thead>\n",
       "  <tbody>\n",
       "    <tr>\n",
       "      <th>11</th>\n",
       "      <td>2022-02-01 01:00:00+00:00</td>\n",
       "      <td>TA_PT1H_AVG</td>\n",
       "      <td>-9.4</td>\n",
       "      <td>1</td>\n",
       "    </tr>\n",
       "    <tr>\n",
       "      <th>35</th>\n",
       "      <td>2022-02-01 03:00:00+00:00</td>\n",
       "      <td>TA_PT1H_AVG</td>\n",
       "      <td>-10.6</td>\n",
       "      <td>3</td>\n",
       "    </tr>\n",
       "    <tr>\n",
       "      <th>59</th>\n",
       "      <td>2022-02-01 05:00:00+00:00</td>\n",
       "      <td>TA_PT1H_AVG</td>\n",
       "      <td>-11.1</td>\n",
       "      <td>5</td>\n",
       "    </tr>\n",
       "    <tr>\n",
       "      <th>71</th>\n",
       "      <td>2022-02-01 06:00:00+00:00</td>\n",
       "      <td>TA_PT1H_AVG</td>\n",
       "      <td>-10.9</td>\n",
       "      <td>6</td>\n",
       "    </tr>\n",
       "    <tr>\n",
       "      <th>83</th>\n",
       "      <td>2022-02-01 07:00:00+00:00</td>\n",
       "      <td>TA_PT1H_AVG</td>\n",
       "      <td>-11.7</td>\n",
       "      <td>7</td>\n",
       "    </tr>\n",
       "  </tbody>\n",
       "</table>\n",
       "</div>"
      ],
      "text/plain": [
       "        2022-02-01T00:00:00Z  TA_PT1H_AVG  Value  Hour\n",
       "11 2022-02-01 01:00:00+00:00  TA_PT1H_AVG   -9.4     1\n",
       "35 2022-02-01 03:00:00+00:00  TA_PT1H_AVG  -10.6     3\n",
       "59 2022-02-01 05:00:00+00:00  TA_PT1H_AVG  -11.1     5\n",
       "71 2022-02-01 06:00:00+00:00  TA_PT1H_AVG  -10.9     6\n",
       "83 2022-02-01 07:00:00+00:00  TA_PT1H_AVG  -11.7     7"
      ]
     },
     "execution_count": 205,
     "metadata": {},
     "output_type": "execute_result"
    }
   ],
   "source": [
    "valid_values.head()"
   ]
  },
  {
   "cell_type": "code",
   "execution_count": 206,
   "id": "12694939-7cea-478a-927e-8399dfaa178d",
   "metadata": {},
   "outputs": [
    {
     "data": {
      "text/html": [
       "<div>\n",
       "<style scoped>\n",
       "    .dataframe tbody tr th:only-of-type {\n",
       "        vertical-align: middle;\n",
       "    }\n",
       "\n",
       "    .dataframe tbody tr th {\n",
       "        vertical-align: top;\n",
       "    }\n",
       "\n",
       "    .dataframe thead th {\n",
       "        text-align: right;\n",
       "    }\n",
       "</style>\n",
       "<table border=\"1\" class=\"dataframe\">\n",
       "  <thead>\n",
       "    <tr style=\"text-align: right;\">\n",
       "      <th></th>\n",
       "      <th>2022-02-01T00:00:00Z</th>\n",
       "      <th>TA_PT1H_AVG</th>\n",
       "      <th>Value</th>\n",
       "      <th>Hour</th>\n",
       "    </tr>\n",
       "  </thead>\n",
       "  <tbody>\n",
       "    <tr>\n",
       "      <th>7715</th>\n",
       "      <td>2022-02-27 19:00:00+00:00</td>\n",
       "      <td>TA_PT1H_AVG</td>\n",
       "      <td>-0.1</td>\n",
       "      <td>19</td>\n",
       "    </tr>\n",
       "    <tr>\n",
       "      <th>7727</th>\n",
       "      <td>2022-02-27 20:00:00+00:00</td>\n",
       "      <td>TA_PT1H_AVG</td>\n",
       "      <td>-0.4</td>\n",
       "      <td>20</td>\n",
       "    </tr>\n",
       "    <tr>\n",
       "      <th>7739</th>\n",
       "      <td>2022-02-27 21:00:00+00:00</td>\n",
       "      <td>TA_PT1H_AVG</td>\n",
       "      <td>-0.8</td>\n",
       "      <td>21</td>\n",
       "    </tr>\n",
       "    <tr>\n",
       "      <th>7751</th>\n",
       "      <td>2022-02-27 22:00:00+00:00</td>\n",
       "      <td>TA_PT1H_AVG</td>\n",
       "      <td>-0.7</td>\n",
       "      <td>22</td>\n",
       "    </tr>\n",
       "    <tr>\n",
       "      <th>7775</th>\n",
       "      <td>2022-02-28 00:00:00+00:00</td>\n",
       "      <td>TA_PT1H_AVG</td>\n",
       "      <td>-1.5</td>\n",
       "      <td>0</td>\n",
       "    </tr>\n",
       "  </tbody>\n",
       "</table>\n",
       "</div>"
      ],
      "text/plain": [
       "          2022-02-01T00:00:00Z  TA_PT1H_AVG  Value  Hour\n",
       "7715 2022-02-27 19:00:00+00:00  TA_PT1H_AVG   -0.1    19\n",
       "7727 2022-02-27 20:00:00+00:00  TA_PT1H_AVG   -0.4    20\n",
       "7739 2022-02-27 21:00:00+00:00  TA_PT1H_AVG   -0.8    21\n",
       "7751 2022-02-27 22:00:00+00:00  TA_PT1H_AVG   -0.7    22\n",
       "7775 2022-02-28 00:00:00+00:00  TA_PT1H_AVG   -1.5     0"
      ]
     },
     "execution_count": 206,
     "metadata": {},
     "output_type": "execute_result"
    }
   ],
   "source": [
    "valid_values.tail()"
   ]
  },
  {
   "cell_type": "code",
   "execution_count": 207,
   "id": "b26113d5-61a5-403b-aad3-300d27fcc0ba",
   "metadata": {},
   "outputs": [
    {
     "name": "stdout",
     "output_type": "stream",
     "text": [
      "[ 1  3  5  6  7  8  9 10 11 13 16 18 19 20 21 22  2 17 23  0 12 14 15  4]\n"
     ]
    }
   ],
   "source": [
    "print(valid_values['Hour'].unique())"
   ]
  },
  {
   "cell_type": "code",
   "execution_count": 208,
   "id": "9e086592-f38d-42c7-b2ec-78f73d94ed8c",
   "metadata": {},
   "outputs": [],
   "source": [
    "# Calculate the temperature differences for each hour\n",
    "temperature_difference = valid_values.groupby('Hour')['Value'].apply(lambda x: x.max() - x.min())"
   ]
  },
  {
   "cell_type": "code",
   "execution_count": 209,
   "id": "981dd731-cc45-4897-934c-16a1684a3d6f",
   "metadata": {},
   "outputs": [
    {
     "data": {
      "text/plain": [
       "Hour\n",
       "0     22.0\n",
       "1     19.6\n",
       "2     18.6\n",
       "3     18.7\n",
       "4     17.6\n",
       "5     19.4\n",
       "6     19.3\n",
       "7     19.1\n",
       "8     17.8\n",
       "9     18.3\n",
       "10    17.5\n",
       "11    16.9\n",
       "12    15.9\n",
       "13    11.5\n",
       "14    15.1\n",
       "15    16.3\n",
       "16    17.8\n",
       "17    20.9\n",
       "18    22.2\n",
       "19    21.9\n",
       "20    22.6\n",
       "21    25.3\n",
       "22    21.3\n",
       "23    23.1\n",
       "Name: Value, dtype: float64"
      ]
     },
     "execution_count": 209,
     "metadata": {},
     "output_type": "execute_result"
    }
   ],
   "source": [
    "temperature_difference"
   ]
  },
  {
   "cell_type": "code",
   "execution_count": 210,
   "id": "14a39166-fe4d-4f85-8d53-26244e604857",
   "metadata": {},
   "outputs": [
    {
     "data": {
      "text/plain": [
       "19.1125"
      ]
     },
     "execution_count": 210,
     "metadata": {},
     "output_type": "execute_result"
    }
   ],
   "source": [
    "# Calculate the average of the temperature differences\n",
    "average_difference = temperature_difference.mean()\n",
    "average_difference"
   ]
  },
  {
   "cell_type": "code",
   "execution_count": 211,
   "id": "1f167264-b75e-4a70-8037-2846290ab13e",
   "metadata": {},
   "outputs": [
    {
     "data": {
      "text/plain": [
       "2.999465532100822"
      ]
     },
     "execution_count": 211,
     "metadata": {},
     "output_type": "execute_result"
    }
   ],
   "source": [
    "# Calculate the standard deviation of the temperature differences\n",
    "std_dev_difference = temperature_difference.std()\n",
    "std_dev_difference"
   ]
  },
  {
   "cell_type": "code",
   "execution_count": 212,
   "id": "2b220cbe-1361-489f-894c-10e3e17b1320",
   "metadata": {},
   "outputs": [
    {
     "data": {
      "text/plain": [
       "21.512072425680657"
      ]
     },
     "execution_count": 212,
     "metadata": {},
     "output_type": "execute_result"
    }
   ],
   "source": [
    "# Calculate the upper and lower bounds\n",
    "upper_bound = average_difference + 0.8 * std_dev_difference\n",
    "upper_bound"
   ]
  },
  {
   "cell_type": "code",
   "execution_count": 213,
   "id": "5b0f549b-ad55-4668-912b-73e3a2529c3c",
   "metadata": {},
   "outputs": [
    {
     "data": {
      "text/plain": [
       "16.712927574319345"
      ]
     },
     "execution_count": 213,
     "metadata": {},
     "output_type": "execute_result"
    }
   ],
   "source": [
    "lower_bound = average_difference - 0.8 * std_dev_difference\n",
    "lower_bound"
   ]
  },
  {
   "cell_type": "code",
   "execution_count": 214,
   "id": "4ec2ea4c-8301-4dc8-903d-82a4b569657d",
   "metadata": {},
   "outputs": [
    {
     "data": {
      "text/plain": [
       "Hour\n",
       "1     19.6\n",
       "2     18.6\n",
       "3     18.7\n",
       "4     17.6\n",
       "5     19.4\n",
       "6     19.3\n",
       "7     19.1\n",
       "8     17.8\n",
       "9     18.3\n",
       "10    17.5\n",
       "11    16.9\n",
       "16    17.8\n",
       "17    20.9\n",
       "22    21.3\n",
       "Name: Value, dtype: float64"
      ]
     },
     "execution_count": 214,
     "metadata": {},
     "output_type": "execute_result"
    }
   ],
   "source": [
    "# Filter temperature differences within the bounds\n",
    "within_bounds = temperature_difference[(temperature_difference >= lower_bound) & (temperature_difference <= upper_bound)]\n",
    "within_bounds"
   ]
  },
  {
   "cell_type": "code",
   "execution_count": 215,
   "id": "0eb15f69-1633-4bb9-8b66-7be54b3d1aa2",
   "metadata": {},
   "outputs": [
    {
     "data": {
      "text/plain": [
       "58.333333333333336"
      ]
     },
     "execution_count": 215,
     "metadata": {},
     "output_type": "execute_result"
    }
   ],
   "source": [
    "# Calculate the percentage of temperature differences within the bounds\n",
    "percentage_within_bounds = (within_bounds.count() / temperature_difference.count()) * 100\n",
    "percentage_within_bounds"
   ]
  },
  {
   "cell_type": "code",
   "execution_count": 216,
   "id": "cc2ea4f4-028d-4947-845d-a8e5a806b2a8",
   "metadata": {},
   "outputs": [
    {
     "data": {
      "text/plain": [
       "14"
      ]
     },
     "execution_count": 216,
     "metadata": {},
     "output_type": "execute_result"
    }
   ],
   "source": [
    "within_bounds_count = within_bounds.count()\n",
    "within_bounds_count"
   ]
  },
  {
   "cell_type": "code",
   "execution_count": 217,
   "id": "0621f397-ea1e-423b-8f6d-1bd9b414ce29",
   "metadata": {},
   "outputs": [
    {
     "data": {
      "text/plain": [
       "24"
      ]
     },
     "execution_count": 217,
     "metadata": {},
     "output_type": "execute_result"
    }
   ],
   "source": [
    "# Total count of temperature differences\n",
    "total_count = len(temperature_difference)\n",
    "total_count"
   ]
  },
  {
   "cell_type": "code",
   "execution_count": null,
   "id": "10096969-a5f8-4b87-83f6-67f3744d5bf5",
   "metadata": {},
   "outputs": [],
   "source": []
  }
 ],
 "metadata": {
  "kernelspec": {
   "display_name": "Python 3 (ipykernel)",
   "language": "python",
   "name": "python3"
  },
  "language_info": {
   "codemirror_mode": {
    "name": "ipython",
    "version": 3
   },
   "file_extension": ".py",
   "mimetype": "text/x-python",
   "name": "python",
   "nbconvert_exporter": "python",
   "pygments_lexer": "ipython3",
   "version": "3.10.14"
  }
 },
 "nbformat": 4,
 "nbformat_minor": 5
}
